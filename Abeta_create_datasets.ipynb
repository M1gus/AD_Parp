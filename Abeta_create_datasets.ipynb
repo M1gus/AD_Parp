{
 "cells": [
  {
   "cell_type": "markdown",
   "metadata": {},
   "source": [
    "# Yu et al. 2020: Supplementary code to create datasets for analysis \n",
    "\n",
    "### Author: Yizhou Yu\n",
    "\n",
    "#### University of Cambridge, MRC Toxicology Unit \n",
    "Contact: yzy21@mrc-tox.cam.ac.uk\n",
    "<br> \n"
   ]
  },
  {
   "cell_type": "code",
   "execution_count": 13,
   "metadata": {
    "scrolled": true
   },
   "outputs": [
    {
     "name": "stdout",
     "output_type": "stream",
     "text": [
      "sys:1: DtypeWarning: Columns (90,91,92,16450) have mixed types. Specify dtype option on import or set low_memory=False.\n",
      "20K done, still running...\n",
      "20K done, still running...\n",
      "20K done, still running...\n",
      "20K done, still running...\n",
      "20K done, still running...\n",
      "20K done, still running...\n",
      "20K done, still running...\n",
      "20K done, still running...\n",
      "20K done, still running...\n",
      "20K done, still running...\n",
      "20K done, still running...\n",
      "20K done, still running...\n",
      "20K done, still running...\n",
      "20K done, still running...\n",
      "20K done, still running...\n",
      "20K done, still running...\n",
      "20K done, still running...\n",
      "20K done, still running...\n",
      "20K done, still running...\n",
      "20K done, still running...\n",
      "20K done, still running...\n",
      "20K done, still running...\n",
      "20K done, still running...\n",
      "20K done, still running...\n",
      "20K done, still running...\n",
      "20K done, still running...\n"
     ]
    }
   ],
   "source": [
    "python UKB_selColumns.py -i ~/data_repository/UKB_dt_18-4-2020/ukb41646.csv -c data/metadt_Abeta_parp_nam_UKB.csv -o data/UKBdt.csv\n"
   ]
  },
  {
   "cell_type": "code",
   "execution_count": 15,
   "metadata": {
    "scrolled": false
   },
   "outputs": [
    {
     "name": "stdout",
     "output_type": "stream",
     "text": [
      "eid,31-0.0,34-0.0,48-0.0,48-1.0,48-2.0,48-3.0,49-0.0,49-1.0,49-2.0,49-3.0,53-0.0,53-1.0,53-2.0,53-3.0,189-0.0,1160-0.0,1160-1.0,1160-2.0,1160-3.0,1170-0.0,1170-1.0,1170-2.0,1170-3.0,1180-0.0,1180-1.0,1180-2.0,1180-3.0,1190-0.0,1190-1.0,1190-2.0,1190-3.0,1200-0.0,1200-1.0,1200-2.0,1200-3.0,1220-0.0,1220-1.0,1220-2.0,1220-3.0,4079-0.0,4079-0.1,4079-1.0,4079-1.1,4079-2.0,4079-2.1,4079-3.0,4079-3.1,4080-0.0,4080-0.1,4080-1.0,4080-1.1,4080-2.0,4080-2.1,4080-3.0,4080-3.1,6138-0.0,6138-0.1,6138-0.2,6138-0.3,6138-0.4,6138-0.5,6138-1.0,6138-1.1,6138-1.2,6138-1.3,6138-1.4,6138-1.5,6138-2.0,6138-2.1,6138-2.2,6138-2.3,6138-2.4,6138-2.5,6138-3.0,6138-3.1,6138-3.2,6138-3.3,6138-3.4,6138-3.5,21000-0.0,21000-1.0,21000-2.0,30710-0.0,30710-1.0,30860-0.0,30860-1.0,30890-0.0,30890-1.0,42020-0.0,42021-0.0\n"
     ]
    }
   ],
   "source": [
    "head -1 data/UKBdt.csv"
   ]
  },
  {
   "cell_type": "code",
   "execution_count": 6,
   "metadata": {
    "scrolled": true
   },
   "outputs": [
    {
     "name": "stdout",
     "output_type": "stream",
     "text": [
      "8K done, still running...\n",
      "8K done, still running...\n",
      "8K done, still running...\n",
      "8K done, still running...\n",
      "8K done, still running...\n",
      "8K done, still running...\n",
      "8K done, still running...\n",
      "8K done, still running...\n",
      "8K done, still running...\n",
      "8K done, still running...\n",
      "8K done, still running...\n",
      "8K done, still running...\n",
      "8K done, still running...\n",
      "8K done, still running...\n",
      "8K done, still running...\n",
      "8K done, still running...\n",
      "8K done, still running...\n",
      "8K done, still running...\n",
      "8K done, still running...\n",
      "8K done, still running...\n",
      "8K done, still running...\n",
      "8K done, still running...\n",
      "8K done, still running...\n",
      "8K done, still running...\n",
      "8K done, still running...\n",
      "8K done, still running...\n",
      "8K done, still running...\n",
      "8K done, still running...\n",
      "8K done, still running...\n",
      "8K done, still running...\n",
      "8K done, still running...\n",
      "8K done, still running...\n",
      "8K done, still running...\n",
      "8K done, still running...\n",
      "8K done, still running...\n",
      "8K done, still running...\n",
      "8K done, still running...\n",
      "8K done, still running...\n",
      "8K done, still running...\n",
      "8K done, still running...\n",
      "8K done, still running...\n",
      "8K done, still running...\n",
      "8K done, still running...\n",
      "8K done, still running...\n",
      "8K done, still running...\n",
      "8K done, still running...\n",
      "8K done, still running...\n",
      "8K done, still running...\n",
      "8K done, still running...\n",
      "8K done, still running...\n",
      "8K done, still running...\n",
      "8K done, still running...\n",
      "8K done, still running...\n",
      "8K done, still running...\n",
      "8K done, still running...\n",
      "8K done, still running...\n",
      "8K done, still running...\n",
      "8K done, still running...\n",
      "8K done, still running...\n",
      "8K done, still running...\n",
      "8K done, still running...\n",
      "8K done, still running...\n",
      "8K done, still running...\n"
     ]
    }
   ],
   "source": [
    "python3 UKB_selColumns.py -i ~/data_repository/UKB_dt_18-4-2020/ukb41646.csv -c data/metadt_self_reported_illnesses.csv -o data/self_rep_illnesses.csv\n"
   ]
  },
  {
   "cell_type": "code",
   "execution_count": 2,
   "metadata": {},
   "outputs": [
    {
     "name": "stdout",
     "output_type": "stream",
     "text": [
      "50K done, still running...\n",
      "50K done, still running...\n",
      "50K done, still running...\n",
      "50K done, still running...\n",
      "50K done, still running...\n",
      "50K done, still running...\n",
      "50K done, still running...\n",
      "50K done, still running...\n",
      "50K done, still running...\n",
      "50K done, still running...\n",
      "50K done, still running...\n"
     ]
    }
   ],
   "source": [
    "# Select the IDP data\n",
    "\n",
    "python3 UKB_selColumns_full_InfoFromFile.py -i /Users/yizhouyu/camDrive/ukb_dt_22_01_2021/ukb43784.csv -c data/metadt_idp.csv -o data/idp_raw.csv\n"
   ]
  }
 ],
 "metadata": {
  "kernelspec": {
   "display_name": "Bash",
   "language": "bash",
   "name": "bash"
  },
  "language_info": {
   "codemirror_mode": "shell",
   "file_extension": ".sh",
   "mimetype": "text/x-sh",
   "name": "bash"
  },
  "toc": {
   "base_numbering": 1,
   "nav_menu": {},
   "number_sections": true,
   "sideBar": true,
   "skip_h1_title": false,
   "title_cell": "Table of Contents",
   "title_sidebar": "Contents",
   "toc_cell": false,
   "toc_position": {},
   "toc_section_display": true,
   "toc_window_display": false
  }
 },
 "nbformat": 4,
 "nbformat_minor": 2
}
